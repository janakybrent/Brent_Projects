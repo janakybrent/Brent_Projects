{
  "nbformat": 4,
  "nbformat_minor": 0,
  "metadata": {
    "colab": {
      "name": "Diabetes_Onset_logistic_regression_Brent.ipynb",
      "provenance": [],
      "collapsed_sections": [],
      "machine_shape": "hm"
    },
    "kernelspec": {
      "name": "python3",
      "display_name": "Python 3"
    }
  },
  "cells": [
    {
      "cell_type": "markdown",
      "metadata": {
        "id": "0MRC0e0KhQ0S"
      },
      "source": [
        "# Pima Indians Onset of Diabetes - Logistic Regression\r\n",
        "\r\n",
        "***This is for classification where we predict a category or class (a binary variable: 0, 1).***\r\n",
        "\r\n",
        "**Dataset Used:** Pima Indians onset of diabetes dataset (CSV).\r\n",
        "\r\n",
        "**Data Source:** UCI Machine Learning repository. \r\n",
        "\r\n",
        "**Data Overview**: N = 758 patients\r\n",
        "\r\n",
        "It describes patient medical record data for female (at least 21 years of age) Pima Indians and whether they had an onset of diabetes within five years.\r\n",
        "\r\n",
        "**Problem Type:** binary classification problem (onset of diabetes as 1 or not as 0)\r\n",
        "\r\n",
        "**Input Variables (X):**\r\n",
        "\r\n",
        "1) Number of times pregnant\r\n",
        "2) Plasma glucose concentration a 2 hours in an oral glucose tolerance test\r\n",
        "3) Diastolic blood pressure (mm Hg)\r\n",
        "4) Triceps skin fold thickness (mm)\r\n",
        "5) 2-Hour serum insulin (mu U/ml)\r\n",
        "6) Body mass index (weight in kg/(height in m)^2)\r\n",
        "7) Diabetes pedigree function\r\n",
        "8) Age (years)\r\n",
        "\r\n",
        "**Output Variable (y):**\r\n",
        "\r\n",
        "Class variable (0 or 1)"
      ]
    },
    {
      "cell_type": "markdown",
      "metadata": {
        "id": "LWd1UlMnhT2s"
      },
      "source": [
        "# Importing the libraries"
      ]
    },
    {
      "cell_type": "code",
      "metadata": {
        "id": "YvGPUQaHhXfL",
        "colab": {
          "base_uri": "https://localhost:8080/",
          "height": 17
        },
        "outputId": "f65457f8-9924-4c2d-d9a5-58ef8bd0f447"
      },
      "source": [
        "import numpy as np\n",
        "import pandas as pd\n",
        "\n",
        "# Plots\n",
        "import seaborn as sns\n",
        "import matplotlib.pyplot as plt\n",
        "%matplotlib inline\n",
        "import plotly.offline as py\n",
        "import plotly.graph_objs as go\n",
        "from plotly.offline import download_plotlyjs, init_notebook_mode, plot, iplot\n",
        "import plotly.tools as tls\n",
        "import plotly.figure_factory as ff\n",
        "py.init_notebook_mode(connected=True)"
      ],
      "execution_count": 1,
      "outputs": [
        {
          "output_type": "display_data",
          "data": {
            "text/html": [
              "        <script type=\"text/javascript\">\n",
              "        window.PlotlyConfig = {MathJaxConfig: 'local'};\n",
              "        if (window.MathJax) {MathJax.Hub.Config({SVG: {font: \"STIX-Web\"}});}\n",
              "        if (typeof require !== 'undefined') {\n",
              "        require.undef(\"plotly\");\n",
              "        requirejs.config({\n",
              "            paths: {\n",
              "                'plotly': ['https://cdn.plot.ly/plotly-latest.min']\n",
              "            }\n",
              "        });\n",
              "        require(['plotly'], function(Plotly) {\n",
              "            window._Plotly = Plotly;\n",
              "        });\n",
              "        }\n",
              "        </script>\n",
              "        "
            ]
          },
          "metadata": {
            "tags": []
          }
        }
      ]
    },
    {
      "cell_type": "markdown",
      "metadata": {
        "id": "K1VMqkGvhc3-"
      },
      "source": [
        "# Importing the dataset"
      ]
    },
    {
      "cell_type": "code",
      "metadata": {
        "id": "M52QDmyzhh9s"
      },
      "source": [
        "dataset = pd.read_csv('pima-indians-diabetes.csv') #dataset has no column headers so header = None\n",
        "X = dataset.iloc[:, :-1].values #X inputs (features) are all rows and all columns EXCEPT the last one.\n",
        "y = dataset.iloc[:, -1].values #y output (dependent variable) includes all rows but ONLY the last column."
      ],
      "execution_count": 2,
      "outputs": []
    },
    {
      "cell_type": "markdown",
      "metadata": {
        "id": "4ggRKICBl4a4"
      },
      "source": [
        "The features of the dataset need to be in the 1st columns and the depedent variable needs to be in the last (right-most) column. \r\n",
        "\r\n",
        "**Line 2**: X = dataset.iloc[:, :-1].values\r\n",
        "\r\n",
        "Selects all the columns and their rows,  except the last column.\r\n",
        "\r\n",
        "[:, :-1] <--  the colon (:) means all of the rows are to be selected. The :-1 means all of the columns except the last one are selected. So [:, :-1] means select all of the columns up to, but not including, the last one and all of the columns' rows. \r\n",
        "\r\n",
        "**Line 3**: y = dataset.iloc[:, -1].values\r\n",
        "\r\n",
        "Selects the last column only and all of its rows, regardless of the number of features in the dataset. [ :, -1 ] where the : means all the rows and the - 1 means all the columns except the last one....so all the rows for the last column only.\r\n"
      ]
    },
    {
      "cell_type": "code",
      "metadata": {
        "colab": {
          "base_uri": "https://localhost:8080/",
          "height": 492
        },
        "id": "VC70m4LGasXU",
        "outputId": "28df9b02-10c0-4a24-a067-5aae0b4c8d04"
      },
      "source": [
        "#Checking the dataset's info and head (1st 5 entries)\r\n",
        "display(dataset.info(),dataset.head())"
      ],
      "execution_count": 3,
      "outputs": [
        {
          "output_type": "stream",
          "text": [
            "<class 'pandas.core.frame.DataFrame'>\n",
            "RangeIndex: 768 entries, 0 to 767\n",
            "Data columns (total 9 columns):\n",
            " #   Column                    Non-Null Count  Dtype  \n",
            "---  ------                    --------------  -----  \n",
            " 0   Pregnancies               768 non-null    int64  \n",
            " 1   Glucose                   768 non-null    int64  \n",
            " 2   BloodPressure             768 non-null    int64  \n",
            " 3   SkinThickness             768 non-null    int64  \n",
            " 4   Insulin                   768 non-null    int64  \n",
            " 5   BMI                       768 non-null    float64\n",
            " 6   DiabetesPedigreeFunction  768 non-null    float64\n",
            " 7   Age                       768 non-null    int64  \n",
            " 8   Outcome                   768 non-null    int64  \n",
            "dtypes: float64(2), int64(7)\n",
            "memory usage: 54.1 KB\n"
          ],
          "name": "stdout"
        },
        {
          "output_type": "display_data",
          "data": {
            "text/plain": [
              "None"
            ]
          },
          "metadata": {
            "tags": []
          }
        },
        {
          "output_type": "display_data",
          "data": {
            "text/html": [
              "<div>\n",
              "<style scoped>\n",
              "    .dataframe tbody tr th:only-of-type {\n",
              "        vertical-align: middle;\n",
              "    }\n",
              "\n",
              "    .dataframe tbody tr th {\n",
              "        vertical-align: top;\n",
              "    }\n",
              "\n",
              "    .dataframe thead th {\n",
              "        text-align: right;\n",
              "    }\n",
              "</style>\n",
              "<table border=\"1\" class=\"dataframe\">\n",
              "  <thead>\n",
              "    <tr style=\"text-align: right;\">\n",
              "      <th></th>\n",
              "      <th>Pregnancies</th>\n",
              "      <th>Glucose</th>\n",
              "      <th>BloodPressure</th>\n",
              "      <th>SkinThickness</th>\n",
              "      <th>Insulin</th>\n",
              "      <th>BMI</th>\n",
              "      <th>DiabetesPedigreeFunction</th>\n",
              "      <th>Age</th>\n",
              "      <th>Outcome</th>\n",
              "    </tr>\n",
              "  </thead>\n",
              "  <tbody>\n",
              "    <tr>\n",
              "      <th>0</th>\n",
              "      <td>6</td>\n",
              "      <td>148</td>\n",
              "      <td>72</td>\n",
              "      <td>35</td>\n",
              "      <td>0</td>\n",
              "      <td>33.6</td>\n",
              "      <td>0.627</td>\n",
              "      <td>50</td>\n",
              "      <td>1</td>\n",
              "    </tr>\n",
              "    <tr>\n",
              "      <th>1</th>\n",
              "      <td>1</td>\n",
              "      <td>85</td>\n",
              "      <td>66</td>\n",
              "      <td>29</td>\n",
              "      <td>0</td>\n",
              "      <td>26.6</td>\n",
              "      <td>0.351</td>\n",
              "      <td>31</td>\n",
              "      <td>0</td>\n",
              "    </tr>\n",
              "    <tr>\n",
              "      <th>2</th>\n",
              "      <td>8</td>\n",
              "      <td>183</td>\n",
              "      <td>64</td>\n",
              "      <td>0</td>\n",
              "      <td>0</td>\n",
              "      <td>23.3</td>\n",
              "      <td>0.672</td>\n",
              "      <td>32</td>\n",
              "      <td>1</td>\n",
              "    </tr>\n",
              "    <tr>\n",
              "      <th>3</th>\n",
              "      <td>1</td>\n",
              "      <td>89</td>\n",
              "      <td>66</td>\n",
              "      <td>23</td>\n",
              "      <td>94</td>\n",
              "      <td>28.1</td>\n",
              "      <td>0.167</td>\n",
              "      <td>21</td>\n",
              "      <td>0</td>\n",
              "    </tr>\n",
              "    <tr>\n",
              "      <th>4</th>\n",
              "      <td>0</td>\n",
              "      <td>137</td>\n",
              "      <td>40</td>\n",
              "      <td>35</td>\n",
              "      <td>168</td>\n",
              "      <td>43.1</td>\n",
              "      <td>2.288</td>\n",
              "      <td>33</td>\n",
              "      <td>1</td>\n",
              "    </tr>\n",
              "  </tbody>\n",
              "</table>\n",
              "</div>"
            ],
            "text/plain": [
              "   Pregnancies  Glucose  BloodPressure  ...  DiabetesPedigreeFunction  Age  Outcome\n",
              "0            6      148             72  ...                     0.627   50        1\n",
              "1            1       85             66  ...                     0.351   31        0\n",
              "2            8      183             64  ...                     0.672   32        1\n",
              "3            1       89             66  ...                     0.167   21        0\n",
              "4            0      137             40  ...                     2.288   33        1\n",
              "\n",
              "[5 rows x 9 columns]"
            ]
          },
          "metadata": {
            "tags": []
          }
        }
      ]
    },
    {
      "cell_type": "code",
      "metadata": {
        "colab": {
          "base_uri": "https://localhost:8080/"
        },
        "id": "18KcCsVuaz_J",
        "outputId": "9f175d08-cd52-4ee5-c585-8966fcb355ed"
      },
      "source": [
        "#summarize the data\r\n",
        "print(dataset.describe())"
      ],
      "execution_count": 4,
      "outputs": [
        {
          "output_type": "stream",
          "text": [
            "       Pregnancies     Glucose  ...         Age     Outcome\n",
            "count   768.000000  768.000000  ...  768.000000  768.000000\n",
            "mean      3.845052  120.894531  ...   33.240885    0.348958\n",
            "std       3.369578   31.972618  ...   11.760232    0.476951\n",
            "min       0.000000    0.000000  ...   21.000000    0.000000\n",
            "25%       1.000000   99.000000  ...   24.000000    0.000000\n",
            "50%       3.000000  117.000000  ...   29.000000    0.000000\n",
            "75%       6.000000  140.250000  ...   41.000000    1.000000\n",
            "max      17.000000  199.000000  ...   81.000000    1.000000\n",
            "\n",
            "[8 rows x 9 columns]\n"
          ],
          "name": "stdout"
        }
      ]
    },
    {
      "cell_type": "markdown",
      "metadata": {
        "id": "FzKrvc4m5YKz"
      },
      "source": [
        "# Cleaning The Data\r\n",
        "\r\n",
        "If you look through the min. (minimum) data in the 'summarize the data' section above, you'll notice a lot of zeros (0's). Here are the columns for which values of zero don't make sense (the patient would be deceased with a zero in any of these columns):\r\n",
        "\r\n",
        "*   Glucose\r\n",
        "*   Blood Pressure\r\n",
        "*   SkinThickness\r\n",
        "*   Insulin\r\n",
        "*   BMI\r\n",
        "\r\n",
        "Let's look at how many 0 values there are by column (excluding that last column (outpout) which SHOULD have 1's and 0's).\r\n",
        "\r\n",
        "\r\n",
        "\r\n",
        "\r\n",
        "\r\n"
      ]
    },
    {
      "cell_type": "code",
      "metadata": {
        "colab": {
          "base_uri": "https://localhost:8080/"
        },
        "id": "96D3csJr7hdH",
        "outputId": "1bd1af27-0572-4a25-c5ff-778c40e33fc1"
      },
      "source": [
        "#Finding Zeros\r\n",
        "def finding_zeros(frame):\r\n",
        "  columns = frame.columns[:8]  #The column labels of the DataFrame...the first 8 columns.\r\n",
        "  for i in columns:\r\n",
        "    zeros = len(frame.loc[frame[i] == 0])  #This line counts the number of 0 values in each column. frame.loc >> Access a group of rows and columns by label(s) or a boolean array..loc[] is primarily label based, but may also be used with a boolean array.\r\n",
        "    print(f'The number of 0 values in {i} = {zeros}') #This is an f-string: The idea behind f-strings is to make string interpolation simpler. To create an f-string, prefix the string with the letter “ f ”.  \r\n",
        "\r\n",
        "finding_zeros(dataset)\r\n",
        "  "
      ],
      "execution_count": 5,
      "outputs": [
        {
          "output_type": "stream",
          "text": [
            "The number of 0 values in Pregnancies = 111\n",
            "The number of 0 values in Glucose = 5\n",
            "The number of 0 values in BloodPressure = 35\n",
            "The number of 0 values in SkinThickness = 227\n",
            "The number of 0 values in Insulin = 374\n",
            "The number of 0 values in BMI = 11\n",
            "The number of 0 values in DiabetesPedigreeFunction = 0\n",
            "The number of 0 values in Age = 0\n"
          ],
          "name": "stdout"
        }
      ]
    },
    {
      "cell_type": "markdown",
      "metadata": {
        "id": "gETeAWDP_qE0"
      },
      "source": [
        "As you can see above, there are a LOT of zero values. I'll replace the zeros with NaN."
      ]
    },
    {
      "cell_type": "code",
      "metadata": {
        "id": "bcEqiy3bEy9n"
      },
      "source": [
        "dataset[['Glucose', 'BloodPressure', 'SkinThickness', 'Insulin', 'BMI']] = dataset[['Glucose', 'BloodPressure', 'SkinThickness', 'Insulin', 'BMI']].replace(0,np.NaN)"
      ],
      "execution_count": 6,
      "outputs": []
    },
    {
      "cell_type": "markdown",
      "metadata": {
        "id": "vfrN3s6ZFSs_"
      },
      "source": [
        "Let's plot the missing data points now."
      ]
    },
    {
      "cell_type": "code",
      "metadata": {
        "colab": {
          "base_uri": "https://localhost:8080/",
          "height": 880
        },
        "id": "MbImR2Y_FVFD",
        "outputId": "b5c80bc1-9358-48a1-9888-2c1ed1b00898"
      },
      "source": [
        "# Boxplots\r\n",
        "plt.style.use('ggplot') # Using ggplot2 style visuals \r\n",
        "f, ax = plt.subplots(figsize=(11, 15))\r\n",
        "ax.set_facecolor('#fafafa')\r\n",
        "ax.set(xlim=(-0.05,400))\r\n",
        "plt.ylabel('Variables')\r\n",
        "plt.title('Overview Data Set')\r\n",
        "ax = sns.boxplot(data = dataset, orient = 'h', palette = 'Set2')"
      ],
      "execution_count": 7,
      "outputs": [
        {
          "output_type": "display_data",
          "data": {
            "image/png": "[encoded data removed]",
            "text/plain": [
              "<Figure size 792x1080 with 1 Axes>"
            ]
          },
          "metadata": {
            "tags": []
          }
        }
      ]
    },
    {
      "cell_type": "markdown",
      "metadata": {
        "id": "DIhduuIesQa0"
      },
      "source": [
        "In the boxplots above, you can see the zero values are encoded with NaN values now. "
      ]
    },
    {
      "cell_type": "markdown",
      "metadata": {
        "id": "YvxIPVyMhmKp"
      },
      "source": [
        "# Splitting the dataset into the Training set and Test set"
      ]
    },
    {
      "cell_type": "code",
      "metadata": {
        "id": "AVzJWAXIhxoC"
      },
      "source": [
        "from sklearn.model_selection import train_test_split\n",
        "X_train, X_test, y_train, y_test = train_test_split(X, y, test_size = 0.20, random_state = 0)"
      ],
      "execution_count": 8,
      "outputs": []
    },
    {
      "cell_type": "markdown",
      "metadata": {
        "id": "SgBV9St0rP-Y"
      },
      "source": [
        "***Lines 1 & 2 will create a test set and training set from the entire dataset we uploaded/imported.***\r\n",
        "\r\n",
        "**Line 2**: X_train, X_test, y_train, y_test = train_test_split(**X**, **y**, test_size = 0.20, random_state = 0)\r\n",
        "\r\n",
        "Where **X** is the matrix of features X and **y** is the the dependent variable vector y. \r\n",
        "\r\n",
        "***test_size *** 20% of data for testing is standard. That leaves 80% for training."
      ]
    },
    {
      "cell_type": "code",
      "metadata": {
        "id": "P3nS3-6r1i2B",
        "colab": {
          "base_uri": "https://localhost:8080/"
        },
        "outputId": "a9e8015a-5c0b-46ed-98e0-92f8e7f0057f"
      },
      "source": [
        " print(X_train) "
      ],
      "execution_count": 9,
      "outputs": [
        {
          "output_type": "stream",
          "text": [
            "[[7.00e+00 1.50e+02 7.80e+01 ... 3.52e+01 6.92e-01 5.40e+01]\n",
            " [4.00e+00 9.70e+01 6.00e+01 ... 2.82e+01 4.43e-01 2.20e+01]\n",
            " [0.00e+00 1.65e+02 9.00e+01 ... 5.23e+01 4.27e-01 2.30e+01]\n",
            " ...\n",
            " [4.00e+00 9.40e+01 6.50e+01 ... 2.47e+01 1.48e-01 2.10e+01]\n",
            " [1.10e+01 8.50e+01 7.40e+01 ... 3.01e+01 3.00e-01 3.50e+01]\n",
            " [5.00e+00 1.36e+02 8.20e+01 ... 0.00e+00 6.40e-01 6.90e+01]]\n"
          ],
          "name": "stdout"
        }
      ]
    },
    {
      "cell_type": "code",
      "metadata": {
        "id": "8dpDLojm1mVG",
        "colab": {
          "base_uri": "https://localhost:8080/"
        },
        "outputId": "244127f7-0b6a-48aa-9838-682540d75e25"
      },
      "source": [
        "print(y_train) "
      ],
      "execution_count": 10,
      "outputs": [
        {
          "output_type": "stream",
          "text": [
            "[1 0 0 0 1 1 1 1 0 0 0 1 0 0 0 0 0 0 1 1 0 0 0 0 0 0 1 1 0 1 1 0 1 1 1 0 0\n",
            " 0 0 0 0 1 1 0 0 0 0 0 0 0 1 0 0 0 1 0 1 0 0 0 0 0 1 1 0 0 1 0 1 1 0 0 1 1\n",
            " 0 0 0 1 0 0 1 1 0 1 0 1 0 1 0 1 0 1 0 0 0 0 0 1 0 1 0 1 0 0 0 0 0 0 0 0 1\n",
            " 0 1 1 1 1 0 0 0 0 1 1 0 1 0 0 1 1 0 0 0 0 0 0 0 1 1 0 0 0 0 1 1 0 0 0 0 1\n",
            " 0 0 1 1 0 1 1 0 0 0 0 0 0 0 0 1 0 1 0 0 0 1 0 0 0 0 0 1 1 1 1 0 0 0 0 0 1\n",
            " 0 0 0 0 1 1 0 0 0 1 1 1 1 0 1 0 1 1 0 0 0 1 0 0 0 1 0 1 1 0 1 1 0 0 0 0 1\n",
            " 1 0 0 1 1 0 0 0 0 0 1 0 1 0 0 0 1 0 1 0 1 0 1 1 1 1 0 1 1 0 0 1 1 0 0 1 1\n",
            " 0 0 0 1 1 0 0 1 0 1 0 0 1 0 1 0 0 0 1 0 0 0 0 0 1 0 1 0 0 1 0 0 1 0 0 0 0\n",
            " 0 0 0 0 0 1 1 0 1 0 1 1 1 0 1 0 0 1 1 0 0 0 1 0 0 1 0 1 0 0 0 0 1 0 0 0 1\n",
            " 1 0 1 0 1 1 0 1 0 1 0 0 0 1 0 1 0 1 0 0 1 1 0 0 0 0 1 0 0 1 0 1 1 0 0 1 1\n",
            " 0 0 0 0 1 0 0 0 0 1 0 1 0 0 0 0 1 0 0 0 1 0 0 0 1 1 0 0 0 0 0 1 0 0 1 0 1\n",
            " 1 0 1 0 0 0 0 1 1 0 0 0 1 0 0 0 0 1 0 1 0 0 0 1 0 1 1 1 1 0 1 0 0 0 0 0 1\n",
            " 0 1 0 1 0 0 0 1 1 0 0 1 1 0 1 0 0 1 0 0 1 0 0 0 0 0 1 1 1 1 0 0 1 1 0 0 0\n",
            " 1 0 0 0 1 0 0 0 0 0 0 1 1 0 0 0 0 0 0 1 0 0 0 0 0 0 1 1 1 0 1 0 0 0 0 0 0\n",
            " 1 1 0 1 1 0 0 1 0 0 0 1 0 1 0 1 0 1 0 0 0 0 1 0 0 1 0 0 0 0 0 1 0 1 0 0 0\n",
            " 0 0 1 0 0 0 0 1 0 1 0 0 0 1 1 0 0 0 0 0 0 0 0 0 0 0 1 1 1 1 0 1 1 1 0 0 1\n",
            " 0 0 0 0 0 1 0 0 0 1 0 1 0 0 1 1 0 0 1 0 0 0]\n"
          ],
          "name": "stdout"
        }
      ]
    },
    {
      "cell_type": "code",
      "metadata": {
        "id": "qbb7i0DH1qui",
        "colab": {
          "base_uri": "https://localhost:8080/"
        },
        "outputId": "ad46b51c-44d8-44aa-9921-57a6a071006c"
      },
      "source": [
        "print(X_test) #<---X_test is supposed to be new data in production. We'll pretend X_test is new observations we can apply the model to to see how it predicts."
      ],
      "execution_count": 11,
      "outputs": [
        {
          "output_type": "stream",
          "text": [
            "[[1.000e+00 1.990e+02 7.600e+01 ... 4.290e+01 1.394e+00 2.200e+01]\n",
            " [2.000e+00 1.070e+02 7.400e+01 ... 3.360e+01 4.040e-01 2.300e+01]\n",
            " [4.000e+00 7.600e+01 6.200e+01 ... 3.400e+01 3.910e-01 2.500e+01]\n",
            " ...\n",
            " [4.000e+00 1.420e+02 8.600e+01 ... 4.400e+01 6.450e-01 2.200e+01]\n",
            " [3.000e+00 1.160e+02 7.400e+01 ... 2.630e+01 1.070e-01 2.400e+01]\n",
            " [1.000e+00 1.070e+02 7.200e+01 ... 3.080e+01 8.210e-01 2.400e+01]]\n"
          ],
          "name": "stdout"
        }
      ]
    },
    {
      "cell_type": "code",
      "metadata": {
        "id": "kj1hnFAR1s5w",
        "colab": {
          "base_uri": "https://localhost:8080/"
        },
        "outputId": "13eb17a5-db8d-48f6-bc73-46d5102dabd1"
      },
      "source": [
        "print(y_test) #<--prints all predictions (0 or 1) for the test set. "
      ],
      "execution_count": 12,
      "outputs": [
        {
          "output_type": "stream",
          "text": [
            "[1 0 0 1 0 0 1 1 0 0 1 1 0 0 0 0 1 0 0 0 1 1 0 0 0 0 0 0 0 0 0 0 0 0 0 1 1\n",
            " 0 0 0 0 0 0 1 1 0 0 1 1 1 0 0 1 0 0 0 0 1 1 1 1 0 0 1 1 1 1 0 0 0 0 0 0 0\n",
            " 1 0 0 0 0 0 0 0 0 0 0 0 1 0 1 0 0 0 0 0 0 0 1 0 1 1 0 0 0 0 0 1 0 0 0 1 0\n",
            " 1 1 1 1 1 0 0 0 1 0 0 0 0 0 0 0 1 0 0 0 0 0 1 0 1 0 1 1 0 0 0 0 0 1 0 0 0\n",
            " 0 1 0 1 0 0]\n"
          ],
          "name": "stdout"
        }
      ]
    },
    {
      "cell_type": "markdown",
      "metadata": {
        "id": "kW3c7UYih0hT"
      },
      "source": [
        "# Feature Scaling\r\n",
        "\r\n",
        "**Why feature scaling here? It's not required for logistic regression, but applying it will improve the training performance and the final predictions.** \r\n",
        "\r\n",
        "**For some models liks SVR, feature scaling is an absolute necessity.**"
      ]
    },
    {
      "cell_type": "code",
      "metadata": {
        "id": "9fQlDPKCh8sc"
      },
      "source": [
        "from sklearn.preprocessing import StandardScaler\n",
        "sc = StandardScaler()\n",
        "X_train = sc.fit_transform(X_train)\n",
        "X_test = sc.transform(X_test)"
      ],
      "execution_count": 13,
      "outputs": []
    },
    {
      "cell_type": "markdown",
      "metadata": {
        "id": "vC45IZwiuRNo"
      },
      "source": [
        "**Lines 1 -4**: \r\n",
        "\r\n",
        "We want to feature scale our X inputs ('features'). We do NOT need to feature scale the depedent variable (diabetes onset or no onset) since it's already 0, 1 for values. As shown in the print-out below, the two features now have values from -3 to +3 which is perfect.\r\n",
        "\r\n",
        "**>>> Feature scaling MUST happen AFTER we split the training set and test set so we avoid information leakage from the test set.**  \r\n",
        "\r\n"
      ]
    },
    {
      "cell_type": "code",
      "metadata": {
        "id": "syrnD1Op2BSR",
        "colab": {
          "base_uri": "https://localhost:8080/"
        },
        "outputId": "899da724-ec5c-4401-e0e4-3f14151c8d61"
      },
      "source": [
        "print(X_train)"
      ],
      "execution_count": 14,
      "outputs": [
        {
          "output_type": "stream",
          "text": [
            "[[ 0.90832902  0.91569367  0.44912368 ...  0.37852648  0.67740401\n",
            "   1.69955804]\n",
            " [ 0.03644676 -0.75182191 -0.47230103 ... -0.50667229 -0.07049698\n",
            "  -0.96569189]\n",
            " [-1.12606292  1.38763205  1.06340683 ...  2.54094063 -0.11855487\n",
            "  -0.88240283]\n",
            " ...\n",
            " [ 0.03644676 -0.84620959 -0.21634972 ... -0.94927168 -0.95656442\n",
            "  -1.04898095]\n",
            " [ 2.0708387  -1.12937261  0.24436264 ... -0.26640405 -0.50001442\n",
            "   0.11706589]\n",
            " [ 0.32707418  0.47521786  0.65388473 ... -4.07275877  0.52121586\n",
            "   2.94889395]]\n"
          ],
          "name": "stdout"
        }
      ]
    },
    {
      "cell_type": "code",
      "metadata": {
        "id": "JUd6iBRp2C3L",
        "colab": {
          "base_uri": "https://localhost:8080/"
        },
        "outputId": "f92b8669-3731-4f2f-ef04-cee64d34f0fd"
      },
      "source": [
        "print(X_test)"
      ],
      "execution_count": 15,
      "outputs": [
        {
          "output_type": "stream",
          "text": [
            "[[-0.8354355   2.45735903  0.34674316 ...  1.35224513  2.78594417\n",
            "  -0.96569189]\n",
            " [-0.54480808 -0.43719633  0.24436264 ...  0.17619533 -0.1876381\n",
            "  -0.88240283]\n",
            " [ 0.03644676 -1.41253563 -0.36992051 ...  0.22677812 -0.22668514\n",
            "  -0.71582471]\n",
            " ...\n",
            " [ 0.03644676  0.66399321  0.85864578 ...  1.4913478   0.53623395\n",
            "  -0.96569189]\n",
            " [-0.25418066 -0.15403331  0.24436264 ... -0.74694053 -1.07971278\n",
            "  -0.79911377]\n",
            " [-0.8354355  -0.43719633  0.14198211 ... -0.17788417  1.06487079\n",
            "  -0.79911377]]\n"
          ],
          "name": "stdout"
        }
      ]
    },
    {
      "cell_type": "markdown",
      "metadata": {
        "id": "bb6jCOCQiAmP"
      },
      "source": [
        "# Training the Logistic Regression model on the Training set"
      ]
    },
    {
      "cell_type": "code",
      "metadata": {
        "id": "e0pFVAmciHQs",
        "colab": {
          "base_uri": "https://localhost:8080/"
        },
        "outputId": "930860b0-5f04-459c-ae7a-7ab6a29e8445"
      },
      "source": [
        "from sklearn.linear_model import LogisticRegression\n",
        "classifier = LogisticRegression(random_state = 0)\n",
        "classifier.fit(X_train, y_train)"
      ],
      "execution_count": 16,
      "outputs": [
        {
          "output_type": "execute_result",
          "data": {
            "text/plain": [
              "LogisticRegression(C=1.0, class_weight=None, dual=False, fit_intercept=True,\n",
              "                   intercept_scaling=1, l1_ratio=None, max_iter=100,\n",
              "                   multi_class='auto', n_jobs=None, penalty='l2',\n",
              "                   random_state=0, solver='lbfgs', tol=0.0001, verbose=0,\n",
              "                   warm_start=False)"
            ]
          },
          "metadata": {
            "tags": []
          },
          "execution_count": 16
        }
      ]
    },
    {
      "cell_type": "markdown",
      "metadata": {
        "id": "nnqp_CPuzF33"
      },
      "source": [
        "**Line 2**: classifier = LogisticRegression(random_state = 0)\r\n",
        "\r\n",
        "***random_state = 0*** <---Normally would not have to enter this parameter....so in the future, omit it.\r\n",
        "\r\n",
        "Line 2 simply builds the Logistic Regression model.  \r\n",
        "\r\n",
        "**Line 3**: classifier.fit(X_train, y_train)\r\n",
        "\r\n",
        "Trains classifier on the training set.You need to call the fit method which takes two inputs (sets of data): the matrix of features of the training set and the dependent variable vector (the last column of data in the dataset)."
      ]
    },
    {
      "cell_type": "markdown",
      "metadata": {
        "id": "yyxW5b395mR2"
      },
      "source": [
        "# Predicting a new result"
      ]
    },
    {
      "cell_type": "code",
      "metadata": {
        "id": "f8YOXsQy58rP",
        "colab": {
          "base_uri": "https://localhost:8080/"
        },
        "outputId": "e4798885-ae34-4741-e9dd-cda580ca7476"
      },
      "source": [
        "print(classifier.predict(sc.transform([[1, 199, 76, 43, 0.0, 42.9, 1.394, 22]]))) #<--predicts 0 or 1 (no or yes)"
      ],
      "execution_count": 17,
      "outputs": [
        {
          "output_type": "stream",
          "text": [
            "[1]\n"
          ],
          "name": "stdout"
        }
      ]
    },
    {
      "cell_type": "code",
      "metadata": {
        "colab": {
          "base_uri": "https://localhost:8080/"
        },
        "id": "JNMFWEUD2chV",
        "outputId": "2b2fcd3c-1b29-4b33-c738-d3f4bdce77d9"
      },
      "source": [
        "print(classifier.predict_proba(sc.transform([[1, 199, 76, 43, 0.0, 42.9, 1.394, 22]]))) #<--predicts a PROBABILITY "
      ],
      "execution_count": 18,
      "outputs": [
        {
          "output_type": "stream",
          "text": [
            "[[0.03968903 0.96031097]]\n"
          ],
          "name": "stdout"
        }
      ]
    },
    {
      "cell_type": "markdown",
      "metadata": {
        "id": "hXJjlwoq1ITF"
      },
      "source": [
        "\r\n",
        "***The transform method is used here so it matches the same format of the data in the training set.***\r\n",
        "\r\n",
        "***sc = StandardScaler***\r\n",
        "\r\n",
        "**print(classifier.predict(sc.transform([[1, 199, 76, 43, 0.0, 42.9, 1.394, 22]])))**\r\n",
        "\r\n",
        "Enter the data for the 1st patient in the X_test set. We'll enter these inputs and predict whether or not she has an onset of diabetes. This is the 1st person in X_test dataset above. The model predicted this person has an onset of diabetes which is a TRUE (correct prediction. \r\n",
        "\r\n",
        "**print(classifier.predict_proba(sc.transform([[1, 199, 76, 43, 0.0, 42.9, 1.394, 22]])))**:  We can use this instead to produce a probability of whether or not the female patient has an onset of diabetes. For the 1st patient in the dataset, the result it: [[0.03968903 0.96031097]] meaning there's a 4% chance she does not and a 96% chance she does have an onset. "
      ]
    },
    {
      "cell_type": "markdown",
      "metadata": {
        "id": "vKYVQH-l5NpE"
      },
      "source": [
        "# Predicting the Test set results"
      ]
    },
    {
      "cell_type": "code",
      "metadata": {
        "id": "p6VMTb2O4hwM",
        "colab": {
          "base_uri": "https://localhost:8080/"
        },
        "outputId": "a73d0c4c-22f6-465e-ae38-a68dde0cc9a0"
      },
      "source": [
        "y_pred = classifier.predict(X_test) \n",
        "print(np.concatenate((y_pred.reshape(len(y_pred),1), y_test.reshape(len(y_test),1)),1)) #Column 1 = predicted result, column 2 = actual results"
      ],
      "execution_count": 19,
      "outputs": [
        {
          "output_type": "stream",
          "text": [
            "[[1 1]\n",
            " [0 0]\n",
            " [0 0]\n",
            " [1 1]\n",
            " [0 0]\n",
            " [0 0]\n",
            " [1 1]\n",
            " [1 1]\n",
            " [0 0]\n",
            " [0 0]\n",
            " [1 1]\n",
            " [1 1]\n",
            " [0 0]\n",
            " [0 0]\n",
            " [0 0]\n",
            " [0 0]\n",
            " [1 1]\n",
            " [0 0]\n",
            " [0 0]\n",
            " [0 0]\n",
            " [1 1]\n",
            " [0 1]\n",
            " [0 0]\n",
            " [0 0]\n",
            " [0 0]\n",
            " [0 0]\n",
            " [0 0]\n",
            " [1 0]\n",
            " [0 0]\n",
            " [0 0]\n",
            " [0 0]\n",
            " [0 0]\n",
            " [0 0]\n",
            " [0 0]\n",
            " [0 0]\n",
            " [1 1]\n",
            " [0 1]\n",
            " [0 0]\n",
            " [0 0]\n",
            " [1 0]\n",
            " [0 0]\n",
            " [0 0]\n",
            " [0 0]\n",
            " [1 1]\n",
            " [1 1]\n",
            " [0 0]\n",
            " [0 0]\n",
            " [0 1]\n",
            " [0 1]\n",
            " [0 1]\n",
            " [0 0]\n",
            " [0 0]\n",
            " [1 1]\n",
            " [0 0]\n",
            " [0 0]\n",
            " [0 0]\n",
            " [0 0]\n",
            " [1 1]\n",
            " [0 1]\n",
            " [0 1]\n",
            " [1 1]\n",
            " [0 0]\n",
            " [0 0]\n",
            " [1 1]\n",
            " [1 1]\n",
            " [1 1]\n",
            " [1 1]\n",
            " [0 0]\n",
            " [0 0]\n",
            " [0 0]\n",
            " [0 0]\n",
            " [0 0]\n",
            " [0 0]\n",
            " [1 0]\n",
            " [1 1]\n",
            " [0 0]\n",
            " [0 0]\n",
            " [1 0]\n",
            " [0 0]\n",
            " [0 0]\n",
            " [0 0]\n",
            " [0 0]\n",
            " [0 0]\n",
            " [0 0]\n",
            " [0 0]\n",
            " [0 0]\n",
            " [0 1]\n",
            " [0 0]\n",
            " [1 1]\n",
            " [0 0]\n",
            " [0 0]\n",
            " [0 0]\n",
            " [0 0]\n",
            " [0 0]\n",
            " [1 0]\n",
            " [0 0]\n",
            " [0 1]\n",
            " [1 0]\n",
            " [1 1]\n",
            " [0 1]\n",
            " [0 0]\n",
            " [0 0]\n",
            " [0 0]\n",
            " [0 0]\n",
            " [1 0]\n",
            " [0 1]\n",
            " [0 0]\n",
            " [0 0]\n",
            " [0 0]\n",
            " [1 1]\n",
            " [0 0]\n",
            " [0 1]\n",
            " [1 1]\n",
            " [0 1]\n",
            " [1 1]\n",
            " [1 1]\n",
            " [0 0]\n",
            " [1 0]\n",
            " [0 0]\n",
            " [1 1]\n",
            " [0 0]\n",
            " [0 0]\n",
            " [0 0]\n",
            " [0 0]\n",
            " [0 0]\n",
            " [0 0]\n",
            " [0 0]\n",
            " [0 1]\n",
            " [0 0]\n",
            " [0 0]\n",
            " [0 0]\n",
            " [0 0]\n",
            " [0 0]\n",
            " [1 1]\n",
            " [0 0]\n",
            " [0 1]\n",
            " [0 0]\n",
            " [0 1]\n",
            " [1 1]\n",
            " [0 0]\n",
            " [0 0]\n",
            " [1 0]\n",
            " [0 0]\n",
            " [0 0]\n",
            " [0 1]\n",
            " [0 0]\n",
            " [0 0]\n",
            " [0 0]\n",
            " [0 0]\n",
            " [0 1]\n",
            " [0 0]\n",
            " [1 1]\n",
            " [0 0]\n",
            " [0 0]]\n"
          ],
          "name": "stdout"
        }
      ]
    },
    {
      "cell_type": "markdown",
      "metadata": {
        "id": "d0hGumSP4rlz"
      },
      "source": [
        "***Column 1 = predicted result, column 2 = actual results***"
      ]
    },
    {
      "cell_type": "markdown",
      "metadata": {
        "id": "h4Hwj34ziWQW"
      },
      "source": [
        "# Making the Confusion Matrix For The TEST Set"
      ]
    },
    {
      "cell_type": "code",
      "metadata": {
        "id": "D6bpZwUiiXic",
        "colab": {
          "base_uri": "https://localhost:8080/"
        },
        "outputId": "d1b10556-90d4-411f-aa17-02349a14953f"
      },
      "source": [
        "from sklearn.metrics import confusion_matrix, accuracy_score, recall_score, precision_score\n",
        "from sklearn.metrics import ConfusionMatrixDisplay\n",
        "cm = confusion_matrix(y_test, y_pred)\n",
        "print(cm)\n",
        "\n",
        "print('Accuracy Score:',accuracy_score(y_test, y_pred))\n",
        "print('Recall Score:', recall_score(y_test, y_pred))     \n",
        "print('Precision Score:', precision_score(y_test, y_pred))"
      ],
      "execution_count": 20,
      "outputs": [
        {
          "output_type": "stream",
          "text": [
            "[[98  9]\n",
            " [18 29]]\n",
            "Accuracy Score: 0.8246753246753247\n",
            "Recall Score: 0.6170212765957447\n",
            "Precision Score: 0.7631578947368421\n"
          ],
          "name": "stdout"
        }
      ]
    },
    {
      "cell_type": "code",
      "metadata": {
        "colab": {
          "base_uri": "https://localhost:8080/",
          "height": 299
        },
        "id": "n2CANx_raXQ1",
        "outputId": "ca8dd032-2066-47f9-ae0d-735b3a71d3df"
      },
      "source": [
        "disp = ConfusionMatrixDisplay(confusion_matrix=cm, display_labels=classifier.classes_)\r\n",
        "disp.plot()"
      ],
      "execution_count": 21,
      "outputs": [
        {
          "output_type": "execute_result",
          "data": {
            "text/plain": [
              "<sklearn.metrics._plot.confusion_matrix.ConfusionMatrixDisplay at 0x7fa5dc904c88>"
            ]
          },
          "metadata": {
            "tags": []
          },
          "execution_count": 21
        },
        {
          "output_type": "display_data",
          "data": {
            "image/png": "[encoded data removed]",
            "text/plain": [
              "<Figure size 432x288 with 2 Axes>"
            ]
          },
          "metadata": {
            "tags": []
          }
        }
      ]
    },
    {
      "cell_type": "markdown",
      "metadata": {
        "id": "Z5gk9sPeZbkn"
      },
      "source": [
        "**Line 2**: cm = confusion_matrix(y_test, y_pred)\r\n",
        "\r\n",
        "Creates a confusion matrix of the y_test variables vs. the y_pred (predicted) outcomes. \r\n",
        "\r\n",
        "**Confusion Matrix Interpretation**:  This is for the TEST set only.\r\n",
        "\r\n",
        "[[**98**   **9**] <--**98** correct predictions of the class zero (0; no onset of diabetes), **9** incorrect predictions of class 1 (false positives) meaning 9 predictions that patients HAD onset of diabetes but in reality they did not.\r\n",
        "\r\n",
        " [ **18   29**]] <--**18** type II errors (false negatives)...these are very bad errors, **29** correc predictions for patients with an onset of diabetes (who really had it).\r\n",
        "\r\n",
        " **Lines 6-8**: Various metrics for the model.\r\n",
        "\r\n",
        "**Line 6**: accuracy_score(y_test, y_pred)\r\n",
        "\r\n",
        "Total correct predictions / total observations; accuracy_score = (98+29)/154 total observations \r\n",
        "\r\n",
        "**Line 7**: Provides the accuracy score on the test set.\r\n",
        "\r\n",
        " **Recall_Score**: Recall Score: 0.6170212765957447 (~62%)\r\n",
        "\r\n",
        " Formula: TP/(TP + FN); 29/(29+18) = 0.617\r\n",
        "\r\n",
        "The recall is the ratio tp / (tp + fn) where tp is the number of true positives and fn the number of false negatives. The recall is intuitively the ability of the classifier to find all the positive samples.\r\n",
        " \r\n",
        "This is a really important score as it tells how good the model is at minimizing false negatives (type II errors...the really bad erros to make). You want to avoid predicting that a patient does NOT have a medical condition when they really do have a medical condition. They may not go on to receive treatment and that is a very bad."
      ]
    },
    {
      "cell_type": "markdown",
      "metadata": {
        "id": "hgcMhplDkrH7"
      },
      "source": [
        "**Dimensions**: Each feature (input X) correpsonds to a dimension. In this example, we have 8 features (8 dimensions) so we cannot visualize the plot.Humans cannot vizualize more than 3 dimensions (3D).\r\n",
        "\r\n",
        "\r\n"
      ]
    },
    {
      "cell_type": "markdown",
      "metadata": {
        "id": "K8YNu5a41drb"
      },
      "source": [
        "#Conclusion\r\n",
        "\r\n",
        "Given the recall score is 61%, this isn't very good. With medical applications, Type II errors (False-Negative) can be very dangerous as patients have a medical condition but the model is predicting they do not. As a result, the patient may not go on to receive the proper diagnosis and treatment. \r\n",
        "\r\n",
        "**How might I improve this? **\r\n",
        "\r\n",
        "I noticed quite a few columns have zero values which don't make sense. For example, a patient cannot have a diastolic blood pressure of zero, otherwise they would be deceased. I believe by dealing with nonsensical zero values, the model would have an improved overall accuracy score along with a recall score. \r\n",
        "\r\n",
        "\r\n"
      ]
    }
  ]
}