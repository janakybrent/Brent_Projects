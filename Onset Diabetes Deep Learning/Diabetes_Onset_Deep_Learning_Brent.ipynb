{
  "nbformat": 4,
  "nbformat_minor": 0,
  "metadata": {
    "colab": {
      "name": "Diabetes_Onset_Deep_Learning_Brent.ipynb",
      "provenance": [],
      "collapsed_sections": []
    },
    "kernelspec": {
      "name": "python3",
      "display_name": "Python 3"
    }
  },
  "cells": [
    {
      "cell_type": "markdown",
      "metadata": {
        "id": "ZC8puOvB-Zyu"
      },
      "source": [
        "#Pima Indians Onset of Diabetes Deep Learning & Keras\r\n",
        "\r\n",
        "**Dataset Used:** Pima Indians onset of diabetes dataset (CSV).\r\n",
        "\r\n",
        "**Data Source:** UCI Machine Learning repository. \r\n",
        "\r\n",
        "**Data Overview**: N = 758 patients\r\n",
        "\r\n",
        "It describes patient medical record data for female (at least 21 years of age) Pima Indians and whether they had an onset of diabetes within five years.\r\n",
        "\r\n",
        "**Problem Type:** binary classification problem (onset of diabetes as 1 or not as 0)\r\n",
        "\r\n",
        "**Input Variables (X):**\r\n",
        "\r\n",
        "1) Number of times pregnant\r\n",
        "2) Plasma glucose concentration a 2 hours in an oral glucose tolerance test\r\n",
        "3) Diastolic blood pressure (mm Hg)\r\n",
        "4) Triceps skin fold thickness (mm)\r\n",
        "5) 2-Hour serum insulin (mu U/ml)\r\n",
        "6) Body mass index (weight in kg/(height in m)^2)\r\n",
        "7) Diabetes pedigree function\r\n",
        "8) Age (years)\r\n",
        "\r\n",
        "**Output Variable (y):**\r\n",
        "\r\n",
        "Class variable (0 or 1)"
      ]
    },
    {
      "cell_type": "markdown",
      "metadata": {
        "id": "bMKN9Yc1DM6q"
      },
      "source": [
        "#Use Case\r\n",
        "\r\n",
        "I've been hired by a U.S. non-profit medical group (Pima Care) to create a model they can use to evaluate additional Pima Indians (population = 19,000) for the onset of diabetes. Their mission is to help prevent diabetes via early detection and to determine the at-risk females in the population. The medical group plans on providing diabetes prevention education and treatments to the at-risk females. They have collected 768 rows of anonymous patient data and have provided me the CSV file. \r\n",
        "\r\n",
        "**Phase 1 Deliverable:** A model that, based on the inputs defined above, will predict whether or not a new Pima Indian patient has the onset of diabetes. The medical team has advised it must have an accuracy of *at least 90*%. \r\n",
        "\r\n",
        "**Phase 2 Deliverable (not included in this project):** An easy-to-use mobile application where clinicians can enter the inputs on their laptops and/or mobile devices. It does **not** require Internet as the locations where additional testing may occur may have little to no cell phone signal.The application should be easy for users to update with a mobile signal though."
      ]
    },
    {
      "cell_type": "markdown",
      "metadata": {
        "id": "997XYFpDAbsh"
      },
      "source": [
        "#Importing the Libraries"
      ]
    },
    {
      "cell_type": "code",
      "metadata": {
        "id": "NbLCxmdVAeOk"
      },
      "source": [
        "from numpy import loadtxt #You could also use Pandas to load the CSV file. \r\n",
        "from keras.models import Sequential\r\n",
        "from keras.layers import Dense\r\n",
        "from keras.utils.vis_utils import plot_model"
      ],
      "execution_count": 1,
      "outputs": []
    },
    {
      "cell_type": "markdown",
      "metadata": {
        "id": "qZbDeyGm_6P5"
      },
      "source": [
        "# Load the Data\r\n",
        "\r\n",
        "Please be sure to have the CSV file downloaded and available.\r\n",
        "\r\n"
      ]
    },
    {
      "cell_type": "code",
      "metadata": {
        "id": "kFoklUkJAAbw"
      },
      "source": [
        "dataset = loadtxt('pima-indians-diabetes.csv', delimiter=',')"
      ],
      "execution_count": 2,
      "outputs": []
    },
    {
      "cell_type": "markdown",
      "metadata": {
        "id": "Zh5ZLkTIBlM4"
      },
      "source": [
        "# Split the Data into X and y\r\n",
        "\r\n",
        "The data will be stored in a 2D array where the first dimension is rows and the second dimension is columns.\r\n",
        "\r\n",
        "I will split the array into two arrays (one for X and one for y) by selecting subsets of columns using the standard NumPy slice operator (:). To select the first 8 columns (the X inputs), I'll use [:, 0:8] which selects all rows \":\" and all columns up to index [8] ([0:8]). To select the output column (the 9th column) I'll use [:, 8]. \r\n"
      ]
    },
    {
      "cell_type": "code",
      "metadata": {
        "id": "SzpSyiMEBoDx"
      },
      "source": [
        "X = dataset[:,0:8] #selects all rows and all columns up to index [8] which is column 7.\r\n",
        "y = dataset[:,8] #selects all rows and just column 8 (the last one)"
      ],
      "execution_count": 3,
      "outputs": []
    },
    {
      "cell_type": "code",
      "metadata": {
        "colab": {
          "base_uri": "https://localhost:8080/"
        },
        "id": "2sR63U1JCiie",
        "outputId": "1428114f-0308-4607-a9ca-5f5e8a93fdbc"
      },
      "source": [
        "# To make sure you sliced things properly, simply take a quick look. Notice the output is all 0's and 1's. Perfect! You can do this for X as well. \r\n",
        "y"
      ],
      "execution_count": 4,
      "outputs": [
        {
          "output_type": "execute_result",
          "data": {
            "text/plain": [
              "array([1., 0., 1., 0., 1., 0., 1., 0., 1., 1., 0., 1., 0., 1., 1., 1., 1.,\n",
              "       1., 0., 1., 0., 0., 1., 1., 1., 1., 1., 0., 0., 0., 0., 1., 0., 0.,\n",
              "       0., 0., 0., 1., 1., 1., 0., 0., 0., 1., 0., 1., 0., 0., 1., 0., 0.,\n",
              "       0., 0., 1., 0., 0., 1., 0., 0., 0., 0., 1., 0., 0., 1., 0., 1., 0.,\n",
              "       0., 0., 1., 0., 1., 0., 0., 0., 0., 0., 1., 0., 0., 0., 0., 0., 1.,\n",
              "       0., 0., 0., 1., 0., 0., 0., 0., 1., 0., 0., 0., 0., 0., 1., 1., 0.,\n",
              "       0., 0., 0., 0., 0., 0., 0., 1., 1., 1., 0., 0., 1., 1., 1., 0., 0.,\n",
              "       0., 1., 0., 0., 0., 1., 1., 0., 0., 1., 1., 1., 1., 1., 0., 0., 0.,\n",
              "       0., 0., 0., 0., 0., 0., 0., 1., 0., 0., 0., 0., 0., 0., 0., 0., 1.,\n",
              "       0., 1., 1., 0., 0., 0., 1., 0., 0., 0., 0., 1., 1., 0., 0., 0., 0.,\n",
              "       1., 1., 0., 0., 0., 1., 0., 1., 0., 1., 0., 0., 0., 0., 0., 1., 1.,\n",
              "       1., 1., 1., 0., 0., 1., 1., 0., 1., 0., 1., 1., 1., 0., 0., 0., 0.,\n",
              "       0., 0., 1., 1., 0., 1., 0., 0., 0., 1., 1., 1., 1., 0., 1., 1., 1.,\n",
              "       1., 0., 0., 0., 0., 0., 1., 0., 0., 1., 1., 0., 0., 0., 1., 1., 1.,\n",
              "       1., 0., 0., 0., 1., 1., 0., 1., 0., 0., 0., 0., 0., 0., 0., 0., 1.,\n",
              "       1., 0., 0., 0., 1., 0., 1., 0., 0., 1., 0., 1., 0., 0., 1., 1., 0.,\n",
              "       0., 0., 0., 0., 1., 0., 0., 0., 1., 0., 0., 1., 1., 0., 0., 1., 0.,\n",
              "       0., 0., 1., 1., 1., 0., 0., 1., 0., 1., 0., 1., 1., 0., 1., 0., 0.,\n",
              "       1., 0., 1., 1., 0., 0., 1., 0., 1., 0., 0., 1., 0., 1., 0., 1., 1.,\n",
              "       1., 0., 0., 1., 0., 1., 0., 0., 0., 1., 0., 0., 0., 0., 1., 1., 1.,\n",
              "       0., 0., 0., 0., 0., 0., 0., 0., 0., 1., 0., 0., 0., 0., 0., 1., 1.,\n",
              "       1., 0., 1., 1., 0., 0., 1., 0., 0., 1., 0., 0., 1., 1., 0., 0., 0.,\n",
              "       0., 1., 0., 0., 1., 0., 0., 0., 0., 0., 0., 0., 1., 1., 1., 0., 0.,\n",
              "       1., 0., 0., 1., 0., 0., 1., 0., 1., 1., 0., 1., 0., 1., 0., 1., 0.,\n",
              "       1., 1., 0., 0., 0., 0., 1., 1., 0., 1., 0., 1., 0., 0., 0., 0., 1.,\n",
              "       1., 0., 1., 0., 1., 0., 0., 0., 0., 0., 1., 0., 0., 0., 0., 1., 0.,\n",
              "       0., 1., 1., 1., 0., 0., 1., 0., 0., 1., 0., 0., 0., 1., 0., 0., 1.,\n",
              "       0., 0., 0., 0., 0., 0., 0., 0., 0., 1., 0., 0., 0., 0., 0., 0., 0.,\n",
              "       1., 0., 0., 0., 1., 0., 0., 0., 1., 1., 0., 0., 0., 0., 0., 0., 0.,\n",
              "       1., 0., 0., 0., 0., 1., 0., 0., 0., 1., 0., 0., 0., 1., 0., 0., 0.,\n",
              "       1., 0., 0., 0., 0., 1., 1., 0., 0., 0., 0., 0., 0., 1., 0., 0., 0.,\n",
              "       0., 0., 0., 0., 0., 0., 0., 0., 1., 0., 0., 0., 1., 1., 1., 1., 0.,\n",
              "       0., 1., 1., 0., 0., 0., 0., 0., 0., 0., 0., 0., 0., 0., 0., 0., 1.,\n",
              "       1., 0., 0., 0., 0., 0., 0., 0., 1., 0., 0., 0., 0., 0., 0., 0., 1.,\n",
              "       0., 1., 1., 0., 0., 0., 1., 0., 1., 0., 1., 0., 1., 0., 1., 0., 0.,\n",
              "       1., 0., 0., 1., 0., 0., 0., 0., 1., 1., 0., 1., 0., 0., 0., 0., 1.,\n",
              "       1., 0., 1., 0., 0., 0., 1., 1., 0., 0., 0., 0., 0., 0., 0., 0., 0.,\n",
              "       0., 1., 0., 0., 0., 0., 1., 0., 0., 1., 0., 0., 0., 1., 0., 0., 0.,\n",
              "       1., 1., 1., 0., 0., 0., 0., 0., 0., 1., 0., 0., 0., 1., 0., 1., 1.,\n",
              "       1., 1., 0., 1., 1., 0., 0., 0., 0., 0., 0., 0., 1., 1., 0., 1., 0.,\n",
              "       0., 1., 0., 1., 0., 0., 0., 0., 0., 1., 0., 1., 0., 1., 0., 1., 1.,\n",
              "       0., 0., 0., 0., 1., 1., 0., 0., 0., 1., 0., 1., 1., 0., 0., 1., 0.,\n",
              "       0., 1., 1., 0., 0., 1., 0., 0., 1., 0., 0., 0., 0., 0., 0., 0., 1.,\n",
              "       1., 1., 0., 0., 0., 0., 0., 0., 1., 1., 0., 0., 1., 0., 0., 1., 0.,\n",
              "       1., 1., 1., 0., 0., 1., 1., 1., 0., 1., 0., 1., 0., 1., 0., 0., 0.,\n",
              "       0., 1., 0.])"
            ]
          },
          "metadata": {
            "tags": []
          },
          "execution_count": 4
        }
      ]
    },
    {
      "cell_type": "markdown",
      "metadata": {
        "id": "mZG_fxvSCxRL"
      },
      "source": [
        "# Define the Keras Model\r\n",
        "\r\n",
        "Models in Keras are defined as a sequence of layers.\r\n",
        "\r\n",
        "**Input Layer > Hidden Layers > Output Layer**\r\n",
        "\r\n",
        "We create a Sequential model and add layers one at a time until we are happy with our network architecture. This is where experimentation comes into play. \r\n",
        "\r\n",
        "We need to make sure that the input layer has the right number of input features (X variables). input_dim = 8 since we have 8 features (independent variables X). \r\n",
        "\r\n",
        "* Activation parameter: The activation function in the hidden layers of a fully connected neural network must be the Rectified Linear Unit activation function which is called 'relu'. "
      ]
    },
    {
      "cell_type": "code",
      "metadata": {
        "colab": {
          "base_uri": "https://localhost:8080/"
        },
        "id": "119leE4gCzp0",
        "outputId": "e357986b-3920-4efc-9875-573e4a294119"
      },
      "source": [
        "model = Sequential()\r\n",
        "model.add(Dense(18, input_dim = 8, activation = 'relu')) #This line defines the input or visible layer AND the first hidden layer\r\n",
        "model.add(Dense(8,activation = 'relu'))\r\n",
        "model.add(Dense(1,activation = 'sigmoid')) \r\n",
        "print(model.summary())"
      ],
      "execution_count": 5,
      "outputs": [
        {
          "output_type": "stream",
          "text": [
            "Model: \"sequential\"\n",
            "_________________________________________________________________\n",
            "Layer (type)                 Output Shape              Param #   \n",
            "=================================================================\n",
            "dense (Dense)                (None, 18)                162       \n",
            "_________________________________________________________________\n",
            "dense_1 (Dense)              (None, 8)                 152       \n",
            "_________________________________________________________________\n",
            "dense_2 (Dense)              (None, 1)                 9         \n",
            "=================================================================\n",
            "Total params: 323\n",
            "Trainable params: 323\n",
            "Non-trainable params: 0\n",
            "_________________________________________________________________\n",
            "None\n"
          ],
          "name": "stdout"
        }
      ]
    },
    {
      "cell_type": "markdown",
      "metadata": {
        "id": "w1JL2CYxJgkg"
      },
      "source": [
        "# Visualize the Model"
      ]
    },
    {
      "cell_type": "code",
      "metadata": {
        "colab": {
          "base_uri": "https://localhost:8080/",
          "height": 422
        },
        "id": "vAgNbD-HJXd0",
        "outputId": "75eba4c5-62cd-4610-e633-968222b9f316"
      },
      "source": [
        "plot_model(model, to_file='model_plot.png', show_shapes=True, show_layer_names=True)"
      ],
      "execution_count": 6,
      "outputs": [
        {
          "output_type": "execute_result",
          "data": {
            "image/png": "[encoded data removed]",
            "text/plain": [
              "<IPython.core.display.Image object>"
            ]
          },
          "metadata": {
            "tags": []
          },
          "execution_count": 6
        }
      ]
    },
    {
      "cell_type": "markdown",
      "metadata": {
        "id": "DJwVd1_LEVXW"
      },
      "source": [
        "#Compile Keras Model\r\n",
        "\r\n",
        "**parameters:**\r\n",
        "\r\n",
        "***optimizer:*** 'adam' optimizer - can perform stochastic gradient descent; the optimizer will update the weights through stochastic gradient descent to hopefully reduce the loss in the next iteration.\r\n",
        "\r\n",
        "***loss***: for binary classification, the loss fxn must be 'binary_crossentropy'. If doing non-binary classification, we would need to enter a categorial crossentropy. For non-binary class, the activation should be 'softmax'.\r\n",
        "\r\n",
        "***metrics***: We can chose several at the same time but we'll only need 'accuracy' in square brackets.\r\n",
        "\r\n"
      ]
    },
    {
      "cell_type": "code",
      "metadata": {
        "id": "DKNQPiY_EfXB"
      },
      "source": [
        "model.compile(loss = 'binary_crossentropy', optimizer = 'adam', metrics = ['accuracy'])"
      ],
      "execution_count": 7,
      "outputs": []
    },
    {
      "cell_type": "markdown",
      "metadata": {
        "id": "PZ-R0xbNFFof"
      },
      "source": [
        "# Fit the Keras Model \r\n",
        "\r\n",
        "We will now show the model some data.\r\n",
        "\r\n",
        "We can train (fit) our model on data by calling the fit() function.\r\n",
        "\r\n",
        "Training occurs over epochs and each epoch is split into batches.\r\n",
        "\r\n",
        "**epochs**: One pass through all of the rows in the training dataset. More epochs is not always better and too few can be dangerous. Start with 100. \r\n",
        "\r\n",
        "**batch_size**: One or more samples considered by the model within an epoch before weights are updated. A good starting point is bach_size = 32. Try smaller batches for smaller datasets like the one we're using here.\r\n",
        "\r\n",
        "**verbose:** If you do not want to see the ephoch history, change verbose = 0. Otherwise verbose = 1. If you run into an error, change to verbose = 0 and rerun."
      ]
    },
    {
      "cell_type": "code",
      "metadata": {
        "colab": {
          "base_uri": "https://localhost:8080/"
        },
        "id": "O8Xo_3ObFNQT",
        "outputId": "f492e49b-bd40-4005-f715-3cfc9d6e5689"
      },
      "source": [
        "model.fit(X,y, epochs = 150, batch_size = 5, verbose = 1)"
      ],
      "execution_count": 8,
      "outputs": [
        {
          "output_type": "stream",
          "text": [
            "Epoch 1/150\n",
            "154/154 [==============================] - 1s 1ms/step - loss: 35.9538 - accuracy: 0.3447\n",
            "Epoch 2/150\n",
            "154/154 [==============================] - 0s 1ms/step - loss: 1.9561 - accuracy: 0.3611\n",
            "Epoch 3/150\n",
            "154/154 [==============================] - 0s 1ms/step - loss: 0.6936 - accuracy: 0.5910\n",
            "Epoch 4/150\n",
            "154/154 [==============================] - 0s 1ms/step - loss: 0.6663 - accuracy: 0.6525\n",
            "Epoch 5/150\n",
            "154/154 [==============================] - 0s 1ms/step - loss: 0.6651 - accuracy: 0.6345\n",
            "Epoch 6/150\n",
            "154/154 [==============================] - 0s 1ms/step - loss: 0.6379 - accuracy: 0.6871\n",
            "Epoch 7/150\n",
            "154/154 [==============================] - 0s 1ms/step - loss: 0.6341 - accuracy: 0.6890\n",
            "Epoch 8/150\n",
            "154/154 [==============================] - 0s 1ms/step - loss: 0.6369 - accuracy: 0.7008\n",
            "Epoch 9/150\n",
            "154/154 [==============================] - 0s 1ms/step - loss: 0.6241 - accuracy: 0.6889\n",
            "Epoch 10/150\n",
            "154/154 [==============================] - 0s 1ms/step - loss: 0.6275 - accuracy: 0.6751\n",
            "Epoch 11/150\n",
            "154/154 [==============================] - 0s 1ms/step - loss: 0.6258 - accuracy: 0.6840\n",
            "Epoch 12/150\n",
            "154/154 [==============================] - 0s 1ms/step - loss: 0.6203 - accuracy: 0.6773\n",
            "Epoch 13/150\n",
            "154/154 [==============================] - 0s 1ms/step - loss: 0.6180 - accuracy: 0.6952\n",
            "Epoch 14/150\n",
            "154/154 [==============================] - 0s 1ms/step - loss: 0.6056 - accuracy: 0.7218\n",
            "Epoch 15/150\n",
            "154/154 [==============================] - 0s 1ms/step - loss: 0.6080 - accuracy: 0.7001\n",
            "Epoch 16/150\n",
            "154/154 [==============================] - 0s 1ms/step - loss: 0.6185 - accuracy: 0.6662\n",
            "Epoch 17/150\n",
            "154/154 [==============================] - 0s 1ms/step - loss: 0.5984 - accuracy: 0.7159\n",
            "Epoch 18/150\n",
            "154/154 [==============================] - 0s 1ms/step - loss: 0.5862 - accuracy: 0.7147\n",
            "Epoch 19/150\n",
            "154/154 [==============================] - 0s 1ms/step - loss: 0.6214 - accuracy: 0.6669\n",
            "Epoch 20/150\n",
            "154/154 [==============================] - 0s 1ms/step - loss: 0.6035 - accuracy: 0.7032\n",
            "Epoch 21/150\n",
            "154/154 [==============================] - 0s 1ms/step - loss: 0.5996 - accuracy: 0.6994\n",
            "Epoch 22/150\n",
            "154/154 [==============================] - 0s 1ms/step - loss: 0.5674 - accuracy: 0.7408\n",
            "Epoch 23/150\n",
            "154/154 [==============================] - 0s 1ms/step - loss: 0.5911 - accuracy: 0.7067\n",
            "Epoch 24/150\n",
            "154/154 [==============================] - 0s 1ms/step - loss: 0.5786 - accuracy: 0.7115\n",
            "Epoch 25/150\n",
            "154/154 [==============================] - 0s 1ms/step - loss: 0.5813 - accuracy: 0.7189\n",
            "Epoch 26/150\n",
            "154/154 [==============================] - 0s 1ms/step - loss: 0.5834 - accuracy: 0.7095\n",
            "Epoch 27/150\n",
            "154/154 [==============================] - 0s 1ms/step - loss: 0.5620 - accuracy: 0.7240\n",
            "Epoch 28/150\n",
            "154/154 [==============================] - 0s 1ms/step - loss: 0.5886 - accuracy: 0.7068\n",
            "Epoch 29/150\n",
            "154/154 [==============================] - 0s 1ms/step - loss: 0.5666 - accuracy: 0.7267\n",
            "Epoch 30/150\n",
            "154/154 [==============================] - 0s 1ms/step - loss: 0.5668 - accuracy: 0.7243\n",
            "Epoch 31/150\n",
            "154/154 [==============================] - 0s 1ms/step - loss: 0.5534 - accuracy: 0.7333\n",
            "Epoch 32/150\n",
            "154/154 [==============================] - 0s 1ms/step - loss: 0.5503 - accuracy: 0.7362\n",
            "Epoch 33/150\n",
            "154/154 [==============================] - 0s 1ms/step - loss: 0.5779 - accuracy: 0.7035\n",
            "Epoch 34/150\n",
            "154/154 [==============================] - 0s 1ms/step - loss: 0.5595 - accuracy: 0.7241\n",
            "Epoch 35/150\n",
            "154/154 [==============================] - 0s 1ms/step - loss: 0.5589 - accuracy: 0.7189\n",
            "Epoch 36/150\n",
            "154/154 [==============================] - 0s 1ms/step - loss: 0.5512 - accuracy: 0.7423\n",
            "Epoch 37/150\n",
            "154/154 [==============================] - 0s 1ms/step - loss: 0.5370 - accuracy: 0.7426\n",
            "Epoch 38/150\n",
            "154/154 [==============================] - 0s 1ms/step - loss: 0.5445 - accuracy: 0.7476\n",
            "Epoch 39/150\n",
            "154/154 [==============================] - 0s 1ms/step - loss: 0.5566 - accuracy: 0.7316\n",
            "Epoch 40/150\n",
            "154/154 [==============================] - 0s 1ms/step - loss: 0.5367 - accuracy: 0.7439\n",
            "Epoch 41/150\n",
            "154/154 [==============================] - 0s 1ms/step - loss: 0.5641 - accuracy: 0.7273\n",
            "Epoch 42/150\n",
            "154/154 [==============================] - 0s 1ms/step - loss: 0.5482 - accuracy: 0.7084\n",
            "Epoch 43/150\n",
            "154/154 [==============================] - 0s 1ms/step - loss: 0.5670 - accuracy: 0.7199\n",
            "Epoch 44/150\n",
            "154/154 [==============================] - 0s 1ms/step - loss: 0.5651 - accuracy: 0.7217\n",
            "Epoch 45/150\n",
            "154/154 [==============================] - 0s 1ms/step - loss: 0.5668 - accuracy: 0.7096\n",
            "Epoch 46/150\n",
            "154/154 [==============================] - 0s 1ms/step - loss: 0.5506 - accuracy: 0.7189\n",
            "Epoch 47/150\n",
            "154/154 [==============================] - 0s 1ms/step - loss: 0.5461 - accuracy: 0.7291\n",
            "Epoch 48/150\n",
            "154/154 [==============================] - 0s 1ms/step - loss: 0.5184 - accuracy: 0.7497\n",
            "Epoch 49/150\n",
            "154/154 [==============================] - 0s 1ms/step - loss: 0.5227 - accuracy: 0.7605\n",
            "Epoch 50/150\n",
            "154/154 [==============================] - 0s 1ms/step - loss: 0.5257 - accuracy: 0.7322\n",
            "Epoch 51/150\n",
            "154/154 [==============================] - 0s 1ms/step - loss: 0.5319 - accuracy: 0.7314\n",
            "Epoch 52/150\n",
            "154/154 [==============================] - 0s 1ms/step - loss: 0.5623 - accuracy: 0.7254\n",
            "Epoch 53/150\n",
            "154/154 [==============================] - 0s 1ms/step - loss: 0.5333 - accuracy: 0.7345\n",
            "Epoch 54/150\n",
            "154/154 [==============================] - 0s 1ms/step - loss: 0.5272 - accuracy: 0.7438\n",
            "Epoch 55/150\n",
            "154/154 [==============================] - 0s 1ms/step - loss: 0.5358 - accuracy: 0.7399\n",
            "Epoch 56/150\n",
            "154/154 [==============================] - 0s 1ms/step - loss: 0.5393 - accuracy: 0.7250\n",
            "Epoch 57/150\n",
            "154/154 [==============================] - 0s 1ms/step - loss: 0.5295 - accuracy: 0.7456\n",
            "Epoch 58/150\n",
            "154/154 [==============================] - 0s 1ms/step - loss: 0.5309 - accuracy: 0.7486\n",
            "Epoch 59/150\n",
            "154/154 [==============================] - 0s 1ms/step - loss: 0.4990 - accuracy: 0.7815\n",
            "Epoch 60/150\n",
            "154/154 [==============================] - 0s 1ms/step - loss: 0.5346 - accuracy: 0.7310\n",
            "Epoch 61/150\n",
            "154/154 [==============================] - 0s 1ms/step - loss: 0.5379 - accuracy: 0.7404\n",
            "Epoch 62/150\n",
            "154/154 [==============================] - 0s 1ms/step - loss: 0.5248 - accuracy: 0.7535\n",
            "Epoch 63/150\n",
            "154/154 [==============================] - 0s 1ms/step - loss: 0.5177 - accuracy: 0.7512\n",
            "Epoch 64/150\n",
            "154/154 [==============================] - 0s 1ms/step - loss: 0.5249 - accuracy: 0.7627\n",
            "Epoch 65/150\n",
            "154/154 [==============================] - 0s 1ms/step - loss: 0.5174 - accuracy: 0.7652\n",
            "Epoch 66/150\n",
            "154/154 [==============================] - 0s 1ms/step - loss: 0.5357 - accuracy: 0.7396\n",
            "Epoch 67/150\n",
            "154/154 [==============================] - 0s 1ms/step - loss: 0.5019 - accuracy: 0.7699\n",
            "Epoch 68/150\n",
            "154/154 [==============================] - 0s 1ms/step - loss: 0.5370 - accuracy: 0.7424\n",
            "Epoch 69/150\n",
            "154/154 [==============================] - 0s 1ms/step - loss: 0.5242 - accuracy: 0.7347\n",
            "Epoch 70/150\n",
            "154/154 [==============================] - 0s 1ms/step - loss: 0.5229 - accuracy: 0.7682\n",
            "Epoch 71/150\n",
            "154/154 [==============================] - 0s 1ms/step - loss: 0.5298 - accuracy: 0.7496\n",
            "Epoch 72/150\n",
            "154/154 [==============================] - 0s 1ms/step - loss: 0.5172 - accuracy: 0.7719\n",
            "Epoch 73/150\n",
            "154/154 [==============================] - 0s 1ms/step - loss: 0.5224 - accuracy: 0.7680\n",
            "Epoch 74/150\n",
            "154/154 [==============================] - 0s 1ms/step - loss: 0.5421 - accuracy: 0.7213\n",
            "Epoch 75/150\n",
            "154/154 [==============================] - 0s 1ms/step - loss: 0.5120 - accuracy: 0.7527\n",
            "Epoch 76/150\n",
            "154/154 [==============================] - 0s 1ms/step - loss: 0.4956 - accuracy: 0.7727\n",
            "Epoch 77/150\n",
            "154/154 [==============================] - 0s 1ms/step - loss: 0.5102 - accuracy: 0.7432\n",
            "Epoch 78/150\n",
            "154/154 [==============================] - 0s 1ms/step - loss: 0.5256 - accuracy: 0.7491\n",
            "Epoch 79/150\n",
            "154/154 [==============================] - 0s 1ms/step - loss: 0.5366 - accuracy: 0.7476\n",
            "Epoch 80/150\n",
            "154/154 [==============================] - 0s 1ms/step - loss: 0.5552 - accuracy: 0.7274\n",
            "Epoch 81/150\n",
            "154/154 [==============================] - 0s 1ms/step - loss: 0.5300 - accuracy: 0.7477\n",
            "Epoch 82/150\n",
            "154/154 [==============================] - 0s 1ms/step - loss: 0.5164 - accuracy: 0.7523\n",
            "Epoch 83/150\n",
            "154/154 [==============================] - 0s 1ms/step - loss: 0.5267 - accuracy: 0.7625\n",
            "Epoch 84/150\n",
            "154/154 [==============================] - 0s 1ms/step - loss: 0.4968 - accuracy: 0.7508\n",
            "Epoch 85/150\n",
            "154/154 [==============================] - 0s 1ms/step - loss: 0.5174 - accuracy: 0.7619\n",
            "Epoch 86/150\n",
            "154/154 [==============================] - 0s 1ms/step - loss: 0.5090 - accuracy: 0.7666\n",
            "Epoch 87/150\n",
            "154/154 [==============================] - 0s 1ms/step - loss: 0.5110 - accuracy: 0.7527\n",
            "Epoch 88/150\n",
            "154/154 [==============================] - 0s 1ms/step - loss: 0.5112 - accuracy: 0.7666\n",
            "Epoch 89/150\n",
            "154/154 [==============================] - 0s 1ms/step - loss: 0.5434 - accuracy: 0.7221\n",
            "Epoch 90/150\n",
            "154/154 [==============================] - 0s 1ms/step - loss: 0.5218 - accuracy: 0.7535\n",
            "Epoch 91/150\n",
            "154/154 [==============================] - 0s 1ms/step - loss: 0.5190 - accuracy: 0.7340\n",
            "Epoch 92/150\n",
            "154/154 [==============================] - 0s 1ms/step - loss: 0.5193 - accuracy: 0.7574\n",
            "Epoch 93/150\n",
            "154/154 [==============================] - 0s 1ms/step - loss: 0.5028 - accuracy: 0.7554\n",
            "Epoch 94/150\n",
            "154/154 [==============================] - 0s 1ms/step - loss: 0.4981 - accuracy: 0.7506\n",
            "Epoch 95/150\n",
            "154/154 [==============================] - 0s 1ms/step - loss: 0.4941 - accuracy: 0.7598\n",
            "Epoch 96/150\n",
            "154/154 [==============================] - 0s 1ms/step - loss: 0.5148 - accuracy: 0.7498\n",
            "Epoch 97/150\n",
            "154/154 [==============================] - 0s 1ms/step - loss: 0.4987 - accuracy: 0.7702\n",
            "Epoch 98/150\n",
            "154/154 [==============================] - 0s 1ms/step - loss: 0.4895 - accuracy: 0.7849\n",
            "Epoch 99/150\n",
            "154/154 [==============================] - 0s 1ms/step - loss: 0.5169 - accuracy: 0.7610\n",
            "Epoch 100/150\n",
            "154/154 [==============================] - 0s 1ms/step - loss: 0.5145 - accuracy: 0.7546\n",
            "Epoch 101/150\n",
            "154/154 [==============================] - 0s 1ms/step - loss: 0.5113 - accuracy: 0.7429\n",
            "Epoch 102/150\n",
            "154/154 [==============================] - 0s 1ms/step - loss: 0.4842 - accuracy: 0.7906\n",
            "Epoch 103/150\n",
            "154/154 [==============================] - 0s 1ms/step - loss: 0.5063 - accuracy: 0.7591\n",
            "Epoch 104/150\n",
            "154/154 [==============================] - 0s 1ms/step - loss: 0.5266 - accuracy: 0.7512\n",
            "Epoch 105/150\n",
            "154/154 [==============================] - 0s 1ms/step - loss: 0.4925 - accuracy: 0.7829\n",
            "Epoch 106/150\n",
            "154/154 [==============================] - 0s 1ms/step - loss: 0.5189 - accuracy: 0.7518\n",
            "Epoch 107/150\n",
            "154/154 [==============================] - 0s 1ms/step - loss: 0.5000 - accuracy: 0.7605\n",
            "Epoch 108/150\n",
            "154/154 [==============================] - 0s 1ms/step - loss: 0.5373 - accuracy: 0.7358\n",
            "Epoch 109/150\n",
            "154/154 [==============================] - 0s 1ms/step - loss: 0.4869 - accuracy: 0.7713\n",
            "Epoch 110/150\n",
            "154/154 [==============================] - 0s 1ms/step - loss: 0.5079 - accuracy: 0.7657\n",
            "Epoch 111/150\n",
            "154/154 [==============================] - 0s 1ms/step - loss: 0.4862 - accuracy: 0.7649\n",
            "Epoch 112/150\n",
            "154/154 [==============================] - 0s 1ms/step - loss: 0.4946 - accuracy: 0.7763\n",
            "Epoch 113/150\n",
            "154/154 [==============================] - 0s 1ms/step - loss: 0.5312 - accuracy: 0.7239\n",
            "Epoch 114/150\n",
            "154/154 [==============================] - 0s 1ms/step - loss: 0.5028 - accuracy: 0.7599\n",
            "Epoch 115/150\n",
            "154/154 [==============================] - 0s 1ms/step - loss: 0.5024 - accuracy: 0.7661\n",
            "Epoch 116/150\n",
            "154/154 [==============================] - 0s 1ms/step - loss: 0.4837 - accuracy: 0.7590\n",
            "Epoch 117/150\n",
            "154/154 [==============================] - 0s 1ms/step - loss: 0.4940 - accuracy: 0.7506\n",
            "Epoch 118/150\n",
            "154/154 [==============================] - 0s 1ms/step - loss: 0.5012 - accuracy: 0.7542\n",
            "Epoch 119/150\n",
            "154/154 [==============================] - 0s 1ms/step - loss: 0.4902 - accuracy: 0.7750\n",
            "Epoch 120/150\n",
            "154/154 [==============================] - 0s 1ms/step - loss: 0.4957 - accuracy: 0.7643\n",
            "Epoch 121/150\n",
            "154/154 [==============================] - 0s 1ms/step - loss: 0.4957 - accuracy: 0.7581\n",
            "Epoch 122/150\n",
            "154/154 [==============================] - 0s 1ms/step - loss: 0.4930 - accuracy: 0.7725\n",
            "Epoch 123/150\n",
            "154/154 [==============================] - 0s 1ms/step - loss: 0.5240 - accuracy: 0.7202\n",
            "Epoch 124/150\n",
            "154/154 [==============================] - 0s 1ms/step - loss: 0.4860 - accuracy: 0.7692\n",
            "Epoch 125/150\n",
            "154/154 [==============================] - 0s 1ms/step - loss: 0.4914 - accuracy: 0.7628\n",
            "Epoch 126/150\n",
            "154/154 [==============================] - 0s 1ms/step - loss: 0.4535 - accuracy: 0.7981\n",
            "Epoch 127/150\n",
            "154/154 [==============================] - 0s 1ms/step - loss: 0.4765 - accuracy: 0.7885\n",
            "Epoch 128/150\n",
            "154/154 [==============================] - 0s 1ms/step - loss: 0.4696 - accuracy: 0.7938\n",
            "Epoch 129/150\n",
            "154/154 [==============================] - 0s 1ms/step - loss: 0.4732 - accuracy: 0.7785\n",
            "Epoch 130/150\n",
            "154/154 [==============================] - 0s 1ms/step - loss: 0.5185 - accuracy: 0.7404\n",
            "Epoch 131/150\n",
            "154/154 [==============================] - 0s 1ms/step - loss: 0.5132 - accuracy: 0.7162\n",
            "Epoch 132/150\n",
            "154/154 [==============================] - 0s 1ms/step - loss: 0.4849 - accuracy: 0.7862\n",
            "Epoch 133/150\n",
            "154/154 [==============================] - 0s 1ms/step - loss: 0.5115 - accuracy: 0.7603\n",
            "Epoch 134/150\n",
            "154/154 [==============================] - 0s 1ms/step - loss: 0.5017 - accuracy: 0.7723\n",
            "Epoch 135/150\n",
            "154/154 [==============================] - 0s 1ms/step - loss: 0.4960 - accuracy: 0.7637\n",
            "Epoch 136/150\n",
            "154/154 [==============================] - 0s 1ms/step - loss: 0.4691 - accuracy: 0.7773\n",
            "Epoch 137/150\n",
            "154/154 [==============================] - 0s 1ms/step - loss: 0.4736 - accuracy: 0.7736\n",
            "Epoch 138/150\n",
            "154/154 [==============================] - 0s 1ms/step - loss: 0.4905 - accuracy: 0.7720\n",
            "Epoch 139/150\n",
            "154/154 [==============================] - 0s 1ms/step - loss: 0.4778 - accuracy: 0.7661\n",
            "Epoch 140/150\n",
            "154/154 [==============================] - 0s 1ms/step - loss: 0.5024 - accuracy: 0.7451\n",
            "Epoch 141/150\n",
            "154/154 [==============================] - 0s 1ms/step - loss: 0.4748 - accuracy: 0.7759\n",
            "Epoch 142/150\n",
            "154/154 [==============================] - 0s 1ms/step - loss: 0.4894 - accuracy: 0.7671\n",
            "Epoch 143/150\n",
            "154/154 [==============================] - 0s 1ms/step - loss: 0.4825 - accuracy: 0.7628\n",
            "Epoch 144/150\n",
            "154/154 [==============================] - 0s 1ms/step - loss: 0.4978 - accuracy: 0.7530\n",
            "Epoch 145/150\n",
            "154/154 [==============================] - 0s 1ms/step - loss: 0.4713 - accuracy: 0.7605\n",
            "Epoch 146/150\n",
            "154/154 [==============================] - 0s 1ms/step - loss: 0.4948 - accuracy: 0.7667\n",
            "Epoch 147/150\n",
            "154/154 [==============================] - 0s 1ms/step - loss: 0.4714 - accuracy: 0.7715\n",
            "Epoch 148/150\n",
            "154/154 [==============================] - 0s 1ms/step - loss: 0.4882 - accuracy: 0.7704\n",
            "Epoch 149/150\n",
            "154/154 [==============================] - 0s 1ms/step - loss: 0.4963 - accuracy: 0.7703\n",
            "Epoch 150/150\n",
            "154/154 [==============================] - 0s 1ms/step - loss: 0.4902 - accuracy: 0.7585\n"
          ],
          "name": "stdout"
        },
        {
          "output_type": "execute_result",
          "data": {
            "text/plain": [
              "<tensorflow.python.keras.callbacks.History at 0x7f7e6ccf9b00>"
            ]
          },
          "metadata": {
            "tags": []
          },
          "execution_count": 8
        }
      ]
    },
    {
      "cell_type": "markdown",
      "metadata": {
        "id": "TULTIL9OHKpD"
      },
      "source": [
        "# Evaluate Keras Model\r\n",
        "\r\n",
        "We have trained our neural network on the entire dataset and we can evaluate the performance of the network on the same dataset.\r\n",
        "\r\n",
        "This will only give us an idea of how well we have modeled the dataset (e.g. train accuracy), but no idea of how well the algorithm might perform on new data. We have done this for simplicity, but ***ideally, you could separate your data into train and test datasets for training and evaluation of your model.***\r\n",
        "\r\n",
        "You can evaluate your model on your training dataset using the evaluate() function on your model and pass it the same input and output used to train the model.\r\n",
        "\r\n",
        "Ideally, we would like the loss to go to zero and accuracy to go to 1.0 (e.g. 100%). This is not possible for any but the most trivial machine learning problems. Instead, we will always have some error in our model. The goal is to choose a model configuration and training configuration that achieve the lowest loss and highest accuracy possible for a given dataset."
      ]
    },
    {
      "cell_type": "code",
      "metadata": {
        "colab": {
          "base_uri": "https://localhost:8080/"
        },
        "id": "h1D04sFFHWND",
        "outputId": "26a9bfe5-aaa6-4426-96fd-b376a91c7491"
      },
      "source": [
        "_, accuracy = model.evaluate(X, y)\r\n",
        "print('Accuracy: %.2f' % (accuracy*100)) # %.2f' means \"2 floating points\". In other words, show the accuracy to two decimal points."
      ],
      "execution_count": 11,
      "outputs": [
        {
          "output_type": "stream",
          "text": [
            "24/24 [==============================] - 0s 1ms/step - loss: 0.4783 - accuracy: 0.7708\n",
            "Accuracy: 77.08\n"
          ],
          "name": "stdout"
        }
      ]
    },
    {
      "cell_type": "markdown",
      "metadata": {
        "id": "uRtfWfFgITUL"
      },
      "source": [
        "# Make New Predictions\r\n",
        "\r\n",
        "After fitting, predictions are made for all rows in the dataset, and the input rows and predicted class value for the first 5 examples are printed and compared to the expected class value.\r\n",
        "\r\n",
        "We would expect about 77% of the rows to be correctly predicted based on our estimated performance (accuracy) as shown above."
      ]
    },
    {
      "cell_type": "code",
      "metadata": {
        "colab": {
          "base_uri": "https://localhost:8080/"
        },
        "id": "y79l7zVJIj50",
        "outputId": "02e12e17-d0ac-4377-859e-5106d3322ea4"
      },
      "source": [
        "predictions = model.predict_classes(X)\r\n",
        "# summarize the first 5 cases\r\n",
        "for i in range(5):\r\n",
        "\tprint('%s => %d (expected %d)' % (X[i].tolist(), predictions[i], y[i]))"
      ],
      "execution_count": 12,
      "outputs": [
        {
          "output_type": "stream",
          "text": [
            "[6.0, 148.0, 72.0, 35.0, 0.0, 33.6, 0.627, 50.0] => 1 (expected 1)\n",
            "[1.0, 85.0, 66.0, 29.0, 0.0, 26.6, 0.351, 31.0] => 0 (expected 0)\n",
            "[8.0, 183.0, 64.0, 0.0, 0.0, 23.3, 0.672, 32.0] => 1 (expected 1)\n",
            "[1.0, 89.0, 66.0, 23.0, 94.0, 28.1, 0.167, 21.0] => 0 (expected 0)\n",
            "[0.0, 137.0, 40.0, 35.0, 168.0, 43.1, 2.288, 33.0] => 1 (expected 1)\n"
          ],
          "name": "stdout"
        },
        {
          "output_type": "stream",
          "text": [
            "/usr/local/lib/python3.6/dist-packages/tensorflow/python/keras/engine/sequential.py:450: UserWarning: `model.predict_classes()` is deprecated and will be removed after 2021-01-01. Please use instead:* `np.argmax(model.predict(x), axis=-1)`,   if your model does multi-class classification   (e.g. if it uses a `softmax` last-layer activation).* `(model.predict(x) > 0.5).astype(\"int32\")`,   if your model does binary classification   (e.g. if it uses a `sigmoid` last-layer activation).\n",
            "  warnings.warn('`model.predict_classes()` is deprecated and '\n"
          ],
          "name": "stderr"
        }
      ]
    },
    {
      "cell_type": "markdown",
      "metadata": {
        "id": "TBSAJvE2HvtF"
      },
      "source": [
        "#Conclusion\r\n",
        "\r\n",
        "This model's accuracy is only about 77%. Since the medical team has required an accuracy of at least 90%, I will have to continue to optimize the model as best as I can. \r\n",
        "\r\n",
        "**Things I can do to improve accuracy**:\r\n",
        "1. Request additional patient records\r\n",
        "2. Perhaps there's additional inputs/features (X values) I can include. I'll check with the client.\r\n",
        "3. Modify the network architecture (hidden layers, neurons/nodes, etc.). The initial model started around 77% accuracy and with some tuning I was able to reach 80%. More tuning may be required. \r\n",
        "4. Try different models (Decision Tree, Random Forest, Support Vector Machine (SVM), Logistic Regression\r\n",
        "\r\n",
        "\r\n",
        "\r\n",
        "\r\n",
        "\r\n"
      ]
    },
    {
      "cell_type": "markdown",
      "metadata": {
        "id": "yJvMCbOefcG8"
      },
      "source": [
        "#Credits\r\n",
        "\r\n",
        "A special thanks to Dr. Jason Brownlee, PhD (Machine Learning Mastery) and Hadelin de Ponteves (Super Data Science) for providing various code and explanations. Also to the UC Irvine Machine Learning Repository https://archive.ics.uci.edu/ml/index.php for their original dataset."
      ]
    }
  ]
}